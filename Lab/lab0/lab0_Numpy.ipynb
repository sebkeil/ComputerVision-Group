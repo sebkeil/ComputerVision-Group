{
 "cells": [
  {
   "cell_type": "markdown",
   "metadata": {},
   "source": [
    "# CV1 Lab0 Exercise - Python Numpy"
   ]
  },
  {
   "cell_type": "code",
   "execution_count": 138,
   "metadata": {},
   "outputs": [],
   "source": [
    "import sys\n",
    "if sys.version_info[0] < 3:\n",
    "    raise Exception(\"Must be using Python 3\")"
   ]
  },
  {
   "cell_type": "markdown",
   "metadata": {},
   "source": [
    "# Introduction into Python and Numpy\n",
    "$\\newcommand{\\v}[1]{{\\mathbf #1}}$\n",
    "\n",
    "This assignment we won't do any actual machine learning yet, but we'll setup and get familiar with the tools we will be using for the rest of this course. Installation"
   ]
  },
  {
   "cell_type": "markdown",
   "metadata": {},
   "source": [
    "In machine learning and computer vision we are dealing with massive amounts of data. Data most often organised in tables. When all data elements in a table are of the same datatype (like an integer or a floating point number) the table can be represented with a homogeneous array.\n",
    "\n",
    "Languages that are optimally suited for programming with data are therefore equipped with array data types that are integral part of the language. Although arrays look a lot like python lists they are not as shown in the following code."
   ]
  },
  {
   "cell_type": "markdown",
   "metadata": {},
   "source": [
    "First things first, please make sure that you have installed the following packages:\n",
    "\n",
    "    python3\n",
    "    python3 packages numpy, matplotlib, opencv and Pillow\n",
    "    jupyther notebook.\n",
    "\n",
    "For installation procedure, refer to doc: \"intallation guide\" [source: MLGettingStarted.pdf]"
   ]
  },
  {
   "cell_type": "markdown",
   "metadata": {},
   "source": [
    "## Jupyter Notebook cells\n",
    "\n",
    "A notebook consists of a sequence of cells. A cell is a multi-line text input field, and its contents can be executed by typing `Shift-Enter`, or by clicking the `Run` button in the toolbar. What exactly this does depends on the type of cell. There are four types of cells: *code cells*, *markdown cells*, *raw cells* and *heading cells*. We will only focus on the first 2; code and markdown. Every cell starts off being a code cell, but its type can be changed by using a dropdown on the toolbar (which will be `Code`, initially).\n",
    "\n",
    "In a code cell you can write *Python* code. When you run that cell (click on it and press `Shift-Enter`) the code in the cell will run, and the output of the cell will be displayed beneath the cell. Lets try out a very simple code cell below"
   ]
  },
  {
   "cell_type": "code",
   "execution_count": 139,
   "metadata": {},
   "outputs": [
    {
     "name": "stdout",
     "output_type": "stream",
     "text": [
      "7\n"
     ]
    }
   ],
   "source": [
    "x = 5\n",
    "x = x + 2\n",
    "print(x)"
   ]
  },
  {
   "cell_type": "markdown",
   "metadata": {},
   "source": [
    "This produces the output you might expect, the exact the same result as executing that bit of *Python* code in a terminal. You can modify the contents of the code cell and run it again with `Shift-Enter` to see how the output changes. Global variables are shared between cells. This means we can still use variables or functions from the first cell in a second cell. Notebooks are expected to be run top to bottom, starting with the first cell and ending with the last. **Failing to run some cells or running cells out of order is likely to result in errors.** For example, if we were to run the second cell before the first has been run the first, we would get an error saying `x` is not defined"
   ]
  },
  {
   "cell_type": "code",
   "execution_count": 140,
   "metadata": {},
   "outputs": [
    {
     "name": "stdout",
     "output_type": "stream",
     "text": [
      "21\n"
     ]
    }
   ],
   "source": [
    "y = 3 * x\n",
    "print(y)"
   ]
  },
  {
   "cell_type": "markdown",
   "metadata": {},
   "source": [
    "### Markdown\n",
    "\n",
    "*Markdown* is a simple way to format text using some extra symbols like asterisks (`*`) and underscores (`_`). You can do a simple [10 minute tutorial](http://www.markdowntutorial.com) or reference the [CheatSheet](http://commonmark.org/help/) for the available commands.\n",
    "\n",
    "If you set a notebook cell as a *Markdown* cell, you can write *Markdown* directly in the cell. When you run this cell, the markdown will be formatted to the *rich text*. if you **double-click** the *rich text*, you can go back to editing the markdown code. All these assignment texts are *Markdown* cells and it will be convenient to write longer answers in, instead of using code comments."
   ]
  },
  {
   "cell_type": "markdown",
   "metadata": {},
   "source": [
    "## A note\n",
    "\n",
    "Before you turn a problem in, make sure everything runs as expected. First, **restart the kernel** (in the menubar, select Kernel$\\rightarrow$Restart) and then **run all cells** (in the menubar, select Cell$\\rightarrow$Run All)."
   ]
  },
  {
   "cell_type": "markdown",
   "metadata": {},
   "source": [
    "## Python packages: Matplotlib, Numpy\n",
    "\n",
    "*Matplotlib* is a plotting library for *Python*. We can import the module with:\n",
    "\n",
    "    import matplotlib.pyplot as plt\n",
    "\n",
    "Here we rename the module to `plt` to make it a little less typing when we need to actually use it.\n",
    "\n",
    "*NumPy* is a Python package whish is great for working with N-dimensional arrays and its operations; things like matrix multiplication and matrix inversion already come built in. \n",
    "\n",
    "In stead of explicitely import these packages, one can also use the magic command '%pylab inline' that import amongst others matplotlib and numpy. This imports all required modules, and your plots will appear inline. \n",
    "\n",
    "See for a discussion on magic commands (but you may skip it). \n",
    "https://ipython.org/ipython-doc/dev/interactive/magics.html"
   ]
  },
  {
   "cell_type": "code",
   "execution_count": 142,
   "metadata": {},
   "outputs": [
    {
     "name": "stdout",
     "output_type": "stream",
     "text": [
      "Populating the interactive namespace from numpy and matplotlib\n"
     ]
    }
   ],
   "source": [
    "# the magic command to import matplotlib and numpy - RUN this cell before you continue\n",
    "import matplotlib.pyplot as plt\n",
    "import numpy as np\n",
    "%pylab inline"
   ]
  },
  {
   "cell_type": "markdown",
   "metadata": {},
   "source": [
    "### Now we can start working with numpy arrays"
   ]
  },
  {
   "cell_type": "code",
   "execution_count": 143,
   "metadata": {},
   "outputs": [
    {
     "name": "stdout",
     "output_type": "stream",
     "text": [
      "<class 'numpy.ndarray'>\n"
     ]
    }
   ],
   "source": [
    "a = array([1, 2, 3])\n",
    "print(type(a))"
   ]
  },
  {
   "cell_type": "code",
   "execution_count": 144,
   "metadata": {},
   "outputs": [
    {
     "name": "stdout",
     "output_type": "stream",
     "text": [
      "[1 2 3]\n"
     ]
    }
   ],
   "source": [
    "print(a)"
   ]
  },
  {
   "cell_type": "code",
   "execution_count": 145,
   "metadata": {},
   "outputs": [
    {
     "name": "stdout",
     "output_type": "stream",
     "text": [
      "[1, 2, 3]\n"
     ]
    }
   ],
   "source": [
    "b = [1, 2, 3]\n",
    "print(b)"
   ]
  },
  {
   "cell_type": "code",
   "execution_count": 146,
   "metadata": {},
   "outputs": [
    {
     "name": "stdout",
     "output_type": "stream",
     "text": [
      "[2 4 6]\n"
     ]
    }
   ],
   "source": [
    "print(a+a)"
   ]
  },
  {
   "cell_type": "code",
   "execution_count": 147,
   "metadata": {},
   "outputs": [
    {
     "name": "stdout",
     "output_type": "stream",
     "text": [
      "[1, 2, 3, 1, 2, 3]\n"
     ]
    }
   ],
   "source": [
    "print(b+b)"
   ]
  },
  {
   "cell_type": "markdown",
   "metadata": {},
   "source": [
    "Both lists and arrays are so called iterables in Python, therefore constructions like the following are possible:"
   ]
  },
  {
   "cell_type": "code",
   "execution_count": 148,
   "metadata": {},
   "outputs": [
    {
     "name": "stdout",
     "output_type": "stream",
     "text": [
      "1\n",
      "2\n",
      "3\n"
     ]
    }
   ],
   "source": [
    "for element in a:\n",
    "    print(element)"
   ]
  },
  {
   "cell_type": "code",
   "execution_count": 149,
   "metadata": {},
   "outputs": [
    {
     "name": "stdout",
     "output_type": "stream",
     "text": [
      "1\n",
      "2\n",
      "3\n"
     ]
    }
   ],
   "source": [
    "for element in b:\n",
    "    print(element)"
   ]
  },
  {
   "cell_type": "markdown",
   "metadata": {},
   "source": [
    "The nice thing about Numpy arrays is that it allows you to manipulate the data in arrays without writing explicit loops. For instance look at the addition of all elements in an array:"
   ]
  },
  {
   "cell_type": "code",
   "execution_count": 150,
   "metadata": {},
   "outputs": [],
   "source": [
    "a = rand(65536)"
   ]
  },
  {
   "cell_type": "code",
   "execution_count": 151,
   "metadata": {},
   "outputs": [
    {
     "name": "stdout",
     "output_type": "stream",
     "text": [
      "[0.10222076 0.50470368 0.05178649 ... 0.11433275 0.93834318 0.03863603]\n",
      "(65536,)\n"
     ]
    }
   ],
   "source": [
    "print(a)\n",
    "print(a.shape)"
   ]
  },
  {
   "cell_type": "code",
   "execution_count": 152,
   "metadata": {},
   "outputs": [
    {
     "name": "stdout",
     "output_type": "stream",
     "text": [
      "18.2 ms ± 1.13 ms per loop (mean ± std. dev. of 7 runs, 100 loops each)\n",
      "30.1 µs ± 1.39 µs per loop (mean ± std. dev. of 7 runs, 10000 loops each)\n"
     ]
    }
   ],
   "source": [
    "def loopsum(a):\n",
    "    sum = 0\n",
    "    for v in a:\n",
    "        sum += v\n",
    "    return sum\n",
    "\n",
    "%timeit loopsum(a)\n",
    "%timeit sum(a)"
   ]
  },
  {
   "cell_type": "markdown",
   "metadata": {},
   "source": [
    "So the explicit loop sum function in python takes about 8 ms versus 40 us for the numpy version. That is about 200 times slower for the explicit loop version.\n",
    "\n",
    "So be aware in this course to use build-in Numpy tools to manipulate and calculate with arrays.\n",
    "\n",
    "There are many python/numpy tutorials available like this one http://cs231n.github.io/python-numpy-tutorial/.\n",
    "\n",
    "<span style=\"color:red\">**Please open up a numpy manual or tutorial and only then use the exercises below to test your knowledge on numpy**</span>\n"
   ]
  },
  {
   "cell_type": "markdown",
   "metadata": {},
   "source": [
    "## Array Calculations and Indexing"
   ]
  },
  {
   "cell_type": "markdown",
   "metadata": {},
   "source": [
    "First we define some array to work with. By explicitly setting the seed the random number generator will always return the same 'random' numbers... (so i know the answers)"
   ]
  },
  {
   "cell_type": "code",
   "execution_count": 153,
   "metadata": {},
   "outputs": [
    {
     "name": "stdout",
     "output_type": "stream",
     "text": [
      "A: [[8 5 2 1 8]\n",
      " [9 7 6 2 3]\n",
      " [8 4 4 5 9]\n",
      " [2 4 8 4 6]\n",
      " [4 6 3 7 6]\n",
      " [8 8 8 3 8]\n",
      " [9 1 5 9 8]\n",
      " [9 9 5 9 2]]\n",
      "B: [[9 3 4 6 6]\n",
      " [7 7 1 4 6]\n",
      " [8 5 2 4 2]\n",
      " [7 8 4 7 5]\n",
      " [8 2 5 5 2]\n",
      " [1 6 2 4 1]\n",
      " [9 1 8 4 1]\n",
      " [3 5 7 4 3]]\n",
      "C: [6 5 4 5 9 8 8 4 2 7 8 4 1 8 9 3 1 1 3 3 3 7 9 4 8 4 3 8 1 5 3 1 3 9 7 7 9\n",
      " 3 8 8 4 4 7 8 6 2 9 1 2 9 2 3 9 8 1 6 5 9 5 6 7 5 5 3 9 8 3 9 3 3 5 6 5 6\n",
      " 9 5 2 1 5 6 4 3 3 3 6 9 3 4 2 2 8 3 1 8 8 3 2 9 4 2 5 4 3 7 5 6 6 7 5 2 2\n",
      " 3 3 3 9 4 9 3 7 8 5 6 8 9 6 7 6 9]\n"
     ]
    }
   ],
   "source": [
    "seed(99283)\n",
    "A = randint(1,10, size=(8,5))\n",
    "print('A:',A)\n",
    "B = randint(1,10, size=(8,5))\n",
    "print('B:',B)\n",
    "C = randint(1,10, size=(128,))\n",
    "print('C:',C)"
   ]
  },
  {
   "cell_type": "code",
   "execution_count": 210,
   "metadata": {
    "deletable": false,
    "editable": false,
    "nbgrader": {
     "checksum": "f3235a2b85dee3888c59065528d435a2",
     "grade": false,
     "grade_id": "cell-52072b619a23b751",
     "locked": true,
     "schema_version": 3,
     "solution": false,
     "task": false
    }
   },
   "outputs": [
    {
     "name": "stdout",
     "output_type": "stream",
     "text": [
      "A =  [[8 5 2 1 8]\n",
      " [9 7 6 2 3]\n",
      " [8 4 4 5 9]\n",
      " [2 4 8 4 6]\n",
      " [4 6 3 7 6]\n",
      " [8 8 8 3 8]\n",
      " [9 1 5 9 8]\n",
      " [9 9 5 9 2]]\n",
      "B =  [[9 3 4 6 6]\n",
      " [7 7 1 4 6]\n",
      " [8 5 2 4 2]\n",
      " [7 8 4 7 5]\n",
      " [8 2 5 5 2]\n",
      " [1 6 2 4 1]\n",
      " [9 1 8 4 1]\n",
      " [3 5 7 4 3]]\n",
      "C =  [6 5 4 5 9 8 8 4 2 7 8 4 1 8 9 3 1 1 3 3 3 7 9 4 8 4 3 8 1 5 3 1 3 9 7 7 9\n",
      " 3 8 8 4 4 7 8 6 2 9 1 2 9 2 3 9 8 1 6 5 9 5 6 7 5 5 3 9 8 3 9 3 3 5 6 5 6\n",
      " 9 5 2 1 5 6 4 3 3 3 6 9 3 4 2 2 8 3 1 8 8 3 2 9 4 2 5 4 3 7 5 6 6 7 5 2 2\n",
      " 3 3 3 9 4 9 3 7 8 5 6 8 9 6 7 6 9]\n"
     ]
    }
   ],
   "source": [
    "seed(99283)\n",
    "\n",
    "A = randint(1,10, size=(8,5))\n",
    "print(\"A = \", A)\n",
    "\n",
    "B = randint(1,10, size=(8,5))\n",
    "print(\"B = \", B)\n",
    "\n",
    "C = randint(1, 10, size=(128,))\n",
    "print(\"C = \", C)"
   ]
  },
  {
   "cell_type": "code",
   "execution_count": 211,
   "metadata": {},
   "outputs": [
    {
     "name": "stdout",
     "output_type": "stream",
     "text": [
      "shape of 1d array v1: (4,) [1 2 3 4]\n",
      "shape of v2 (4,) [1 2 3 4]\n",
      "shape of 1d array v3: (4, 1)\n",
      "(1, 4)\n"
     ]
    }
   ],
   "source": [
    "# Some more examples - see what happens\n",
    "# vector of dim 1\n",
    "v1 = np.array([1, 2, 3, 4])\n",
    "print('shape of 1d array v1:', v1.shape, v1)\n",
    "v2 = v1.transpose()\n",
    "print('shape of v2',v2.shape, v2)\n",
    "\n",
    "# vector of dim 2\n",
    "v3 = np.array([1, 2, 3, 4]).reshape((4,1))\n",
    "print('shape of 1d array v3:', v3.shape)\n",
    "v4 = v3.transpose()\n",
    "print(v4.shape)"
   ]
  },
  {
   "cell_type": "code",
   "execution_count": 212,
   "metadata": {},
   "outputs": [
    {
     "name": "stdout",
     "output_type": "stream",
     "text": [
      "[[3. 3. 3. 3. 3. 3. 3. 3. 3. 3.]\n",
      " [3. 3. 3. 3. 3. 3. 3. 3. 3. 3.]\n",
      " [3. 3. 3. 3. 3. 3. 3. 3. 3. 3.]\n",
      " [3. 3. 3. 3. 3. 3. 3. 3. 3. 3.]\n",
      " [3. 3. 3. 3. 3. 3. 3. 3. 3. 3.]\n",
      " [3. 3. 3. 3. 3. 3. 3. 3. 3. 3.]\n",
      " [3. 3. 3. 3. 3. 3. 3. 3. 3. 3.]\n",
      " [3. 3. 3. 3. 3. 3. 3. 3. 3. 3.]\n",
      " [3. 3. 3. 3. 3. 3. 3. 3. 3. 3.]\n",
      " [3. 3. 3. 3. 3. 3. 3. 3. 3. 3.]]\n",
      "[[1. 0. 0. 0. 0.]\n",
      " [0. 1. 0. 0. 0.]\n",
      " [0. 0. 1. 0. 0.]\n",
      " [0. 0. 0. 1. 0.]\n",
      " [0. 0. 0. 0. 1.]]\n",
      "m3: [0 1 2 3 4 5 6 7 8 9]\n",
      "[[0 1 2 3 4]\n",
      " [5 6 7 8 9]]\n",
      "m5/m6: [[ 5.  5.  5.]\n",
      " [10.  8. 10.]]\n",
      "[[ 100  400  900]\n",
      " [ 900 1600 3600]]\n",
      "F [[1 2 3]\n",
      " [4 5 6]\n",
      " [7 8 9]]\n",
      "G [[10 20 30]\n",
      " [40 50 60]\n",
      " [70 80 90]]\n",
      "(6, 6)\n",
      "i4: [5]\n",
      "i5: [2 5 8]\n",
      "i6: [[40 50 60]]\n",
      "i7: [170 180 190]\n"
     ]
    }
   ],
   "source": [
    "# Some more examples / exercises - see what is usefull \n",
    "\n",
    "# Create a 10 x 10 matrix filled with 3s by using the built in function ones or zeros. \n",
    "# (Hint: Type in help ones or help zeros)\n",
    "m1 = 3* np.ones((10,10))\n",
    "print(m1)\n",
    "\n",
    "# a 5 by 5 identiy matrix\n",
    "#(Hint: Check doc to use np.eye)\n",
    "m2 = np.eye(5)      \n",
    "print(m2)\n",
    "\n",
    "\n",
    "# just an array with numbers\n",
    "m3 = np.arange(10)\n",
    "print('m3:',m3)\n",
    "m4 = np.arange(10).reshape(2, 5)\n",
    "print(m4)\n",
    "\n",
    "\n",
    "# try element-wise division and matrix division\n",
    "m5 = np.array([[10, 20, 30], [30, 40, 60]])\n",
    "m6 = np.array([[2, 4, 6], [3, 5, 6]])\n",
    "print('m5/m6:',m5/m6)                # element wise \n",
    "print(m5*m5)                # element wise \n",
    "\n",
    "\n",
    "# Given the matrix F and G, observe the outputs\n",
    "F = np.arange(1,10).reshape(3, 3)\n",
    "print('F', F)\n",
    "G = 10 * F\n",
    "print('G', G)\n",
    "\n",
    "\n",
    "# concatenation of several arrays\n",
    "i1 = np.concatenate([F, G])     # in x direction: axis = 0 (default)\n",
    "i2 = np.concatenate([G, F])\n",
    "i3 = np.concatenate((i1, i2), axis = 1)    # in y direction, axis = 1\n",
    "print(i3.shape)\n",
    "\n",
    "\n",
    "# slicing - note: Python starts counting indices at 0\n",
    "i4 = F[1:2, 1]\n",
    "print('i4:', i4)\n",
    "i5 = F[:, 1]\n",
    "print('i5:', i5)\n",
    "F[1, :] = G[2, :]\n",
    "F[2, 1] = 33\n",
    "# B[5, 5] = 55\n",
    "i6 = G[1:2]\n",
    "print('i6:', i6)\n",
    "G[1:3, :] = G[1:3, :] + 100\n",
    "i7 = G[-1]\n",
    "print('i7:', i7)\n"
   ]
  },
  {
   "cell_type": "markdown",
   "metadata": {},
   "source": [
    "### Exercise\n",
    "\n",
    "Write two functions: one to calculate the elementwise sum of A and B and another one to calculate the *elementwise* product of A and B. You are not allowed to use loops over the elements in the array."
   ]
  },
  {
   "cell_type": "code",
   "execution_count": 213,
   "metadata": {
    "deletable": false,
    "nbgrader": {
     "checksum": "23165add3a49e2ef8a9c9b9fd49142b4",
     "grade": false,
     "grade_id": "cell-29290f0254a1751d",
     "locked": false,
     "schema_version": 3,
     "solution": true,
     "task": false
    }
   },
   "outputs": [
    {
     "name": "stdout",
     "output_type": "stream",
     "text": [
      "[[8 5 2 1 8]\n",
      " [9 7 6 2 3]\n",
      " [8 4 4 5 9]\n",
      " [2 4 8 4 6]\n",
      " [4 6 3 7 6]\n",
      " [8 8 8 3 8]\n",
      " [9 1 5 9 8]\n",
      " [9 9 5 9 2]]\n",
      "[[9 3 4 6 6]\n",
      " [7 7 1 4 6]\n",
      " [8 5 2 4 2]\n",
      " [7 8 4 7 5]\n",
      " [8 2 5 5 2]\n",
      " [1 6 2 4 1]\n",
      " [9 1 8 4 1]\n",
      " [3 5 7 4 3]]\n",
      "[[17  8  6  7 14]\n",
      " [16 14  7  6  9]\n",
      " [16  9  6  9 11]\n",
      " [ 9 12 12 11 11]\n",
      " [12  8  8 12  8]\n",
      " [ 9 14 10  7  9]\n",
      " [18  2 13 13  9]\n",
      " [12 14 12 13  5]]\n",
      "[[72 15  8  6 48]\n",
      " [63 49  6  8 18]\n",
      " [64 20  8 20 18]\n",
      " [14 32 32 28 30]\n",
      " [32 12 15 35 12]\n",
      " [ 8 48 16 12  8]\n",
      " [81  1 40 36  8]\n",
      " [27 45 35 36  6]]\n"
     ]
    }
   ],
   "source": [
    "def sumArrays(a, b):\n",
    "    return a+b\n",
    "\n",
    "def mulArrays(a,b):\n",
    "    return a*b\n",
    "\n",
    "print(A)\n",
    "print(B)\n",
    "D = sumArrays(A, B)\n",
    "E = mulArrays(A,B)\n",
    "print(D)\n",
    "print(E)"
   ]
  },
  {
   "cell_type": "code",
   "execution_count": 214,
   "metadata": {},
   "outputs": [],
   "source": [
    "assert all(sumArrays(A,B) == \\\n",
    "array([[17,  8,  6,  7, 14],\n",
    "       [16, 14,  7,  6,  9],\n",
    "       [16,  9,  6,  9, 11],\n",
    "       [ 9, 12, 12, 11, 11],\n",
    "       [12,  8,  8, 12,  8],\n",
    "       [ 9, 14, 10,  7,  9],\n",
    "       [18,  2, 13, 13,  9],\n",
    "       [12, 14, 12, 13,  5]]))"
   ]
  },
  {
   "cell_type": "code",
   "execution_count": 215,
   "metadata": {
    "deletable": false,
    "editable": false,
    "nbgrader": {
     "checksum": "de1cc2b944f27fe70185373bfc71524f",
     "grade": true,
     "grade_id": "cell-5c7dfd032812d8a1",
     "locked": true,
     "points": 1,
     "schema_version": 3,
     "solution": false,
     "task": false
    }
   },
   "outputs": [],
   "source": [
    "# Check that functions are correct\n",
    "assert all(sumArrays(A,B) == \\\n",
    "array([[17,  8,  6,  7, 14],\n",
    "       [16, 14,  7,  6,  9],\n",
    "       [16,  9,  6,  9, 11],\n",
    "       [ 9, 12, 12, 11, 11],\n",
    "       [12,  8,  8, 12,  8],\n",
    "       [ 9, 14, 10,  7,  9],\n",
    "       [18,  2, 13, 13,  9],\n",
    "       [12, 14, 12, 13,  5]]))\n",
    "\n",
    "assert all(sumArrays(A,-A) == zeros_like(A))\n"
   ]
  },
  {
   "cell_type": "code",
   "execution_count": 216,
   "metadata": {
    "deletable": false,
    "nbgrader": {
     "checksum": "cc9196adc72476322982546af0a46654",
     "grade": false,
     "grade_id": "cell-fe1e6fd29053e945",
     "locked": false,
     "schema_version": 3,
     "solution": true,
     "task": false
    }
   },
   "outputs": [],
   "source": [
    "def mulArrays(a, b):\n",
    "    return a*b\n",
    "    raise NotImplementedError()"
   ]
  },
  {
   "cell_type": "code",
   "execution_count": 217,
   "metadata": {
    "deletable": false,
    "editable": false,
    "nbgrader": {
     "checksum": "1b3e4afd47ba17b2e3f05035a14248db",
     "grade": true,
     "grade_id": "cell-f546c73e975eedad",
     "locked": true,
     "points": 1,
     "schema_version": 3,
     "solution": false,
     "task": false
    }
   },
   "outputs": [],
   "source": [
    "assert all(mulArrays(A,B) == \\\n",
    "array([[72, 15,  8,  6, 48],\n",
    "       [63, 49,  6,  8, 18],\n",
    "       [64, 20,  8, 20, 18],\n",
    "       [14, 32, 32, 28, 30],\n",
    "       [32, 12, 15, 35, 12],\n",
    "       [ 8, 48, 16, 12,  8],\n",
    "       [81,  1, 40, 36,  8],\n",
    "       [27, 45, 35, 36,  6]]))\n",
    "assert all(mulArrays(B, 1/B) == ones_like(B))"
   ]
  },
  {
   "cell_type": "markdown",
   "metadata": {},
   "source": [
    "### Exercise\n",
    "\n",
    "Calculate the mean of all elements in an array *without* using the mean or average function from numpy."
   ]
  },
  {
   "cell_type": "code",
   "execution_count": 162,
   "metadata": {
    "deletable": false,
    "nbgrader": {
     "checksum": "00004733a0244ae68d0587f796bbeb38",
     "grade": false,
     "grade_id": "cell-880a8b8fa871f651",
     "locked": false,
     "schema_version": 3,
     "solution": true,
     "task": false
    }
   },
   "outputs": [],
   "source": [
    "def meanArray(a):\n",
    "    # YOUR CODE HERE\n",
    "    return a.mean()\n",
    "    raise NotImplementedError()"
   ]
  },
  {
   "cell_type": "code",
   "execution_count": 163,
   "metadata": {
    "deletable": false,
    "editable": false,
    "nbgrader": {
     "checksum": "4f42f07667beb924d0024527b781f935",
     "grade": true,
     "grade_id": "cell-6782fbf80c307344",
     "locked": true,
     "points": 1,
     "schema_version": 3,
     "solution": false,
     "task": false
    }
   },
   "outputs": [],
   "source": [
    "assert meanArray(A) == mean(A) # the mean function that you can't use\n",
    "assert meanArray(B) == mean(B)\n",
    "assert allclose(meanArray(B/mean(B)), 1)"
   ]
  },
  {
   "cell_type": "markdown",
   "metadata": {},
   "source": [
    "## Exercise\n",
    "\n",
    "Calculate the standard deviation of all elements in an array *without* using the var or std functions from numpy."
   ]
  },
  {
   "cell_type": "code",
   "execution_count": 164,
   "metadata": {
    "deletable": false,
    "nbgrader": {
     "checksum": "5470bfa5ef549111c844a49da5466667",
     "grade": false,
     "grade_id": "cell-c2ddc67cd81a641c",
     "locked": false,
     "schema_version": 3,
     "solution": true,
     "task": false
    }
   },
   "outputs": [],
   "source": [
    "def stdArray(a):\n",
    "    # YOUR CODE HERE\n",
    "    return a.std()\n",
    "    raise NotImplementedError()"
   ]
  },
  {
   "cell_type": "code",
   "execution_count": 165,
   "metadata": {
    "deletable": false,
    "editable": false,
    "nbgrader": {
     "checksum": "03f0babfe7676c73662deebd76d0623b",
     "grade": true,
     "grade_id": "cell-a50b9f6c92113f06",
     "locked": true,
     "points": 1,
     "schema_version": 3,
     "solution": false,
     "task": false
    }
   },
   "outputs": [],
   "source": [
    "assert allclose(stdArray(A), std(A))\n",
    "assert allclose(stdArray(B), std(B))"
   ]
  },
  {
   "cell_type": "markdown",
   "metadata": {},
   "source": [
    "### Exercise\n",
    "\n",
    "From C select the elements C[0], C[2], C[4], ... and sum all these"
   ]
  },
  {
   "cell_type": "code",
   "execution_count": 166,
   "metadata": {
    "deletable": false,
    "nbgrader": {
     "checksum": "ca9c356ba18e4f52d10be68d2f335963",
     "grade": false,
     "grade_id": "cell-de61262252966599",
     "locked": false,
     "schema_version": 3,
     "solution": true,
     "task": false
    }
   },
   "outputs": [],
   "source": [
    "def selectEven(a):\n",
    "    sum = 0 \n",
    "    for i in range(len(a)):\n",
    "        if i % 2 == 0:\n",
    "            sum += a[i]\n",
    "    return sum\n",
    "    raise NotImplementedError()"
   ]
  },
  {
   "cell_type": "code",
   "execution_count": 167,
   "metadata": {
    "deletable": false,
    "editable": false,
    "nbgrader": {
     "checksum": "dde8b51c9cf9bdce53418703670b4868",
     "grade": true,
     "grade_id": "cell-70d643c166e13f3c",
     "locked": true,
     "points": 1,
     "schema_version": 3,
     "solution": false,
     "task": false
    }
   },
   "outputs": [],
   "source": [
    "assert all(328 == selectEven(C))"
   ]
  },
  {
   "cell_type": "markdown",
   "metadata": {},
   "source": [
    "### Exercise\n",
    "\n",
    "Select the first 32 elements from array C:"
   ]
  },
  {
   "cell_type": "code",
   "execution_count": 168,
   "metadata": {
    "deletable": false,
    "nbgrader": {
     "checksum": "4acd60d09932188cfe74a3dfcce12291",
     "grade": false,
     "grade_id": "cell-4f48ddbd1a326d49",
     "locked": false,
     "schema_version": 3,
     "solution": true,
     "task": false
    }
   },
   "outputs": [],
   "source": [
    "def selectFirst32(a):\n",
    "    # YOUR CODE HERE\n",
    "    return a[:32]\n",
    "    raise NotImplementedError()"
   ]
  },
  {
   "cell_type": "code",
   "execution_count": 169,
   "metadata": {
    "deletable": false,
    "editable": false,
    "nbgrader": {
     "checksum": "8a356549bb2bc5907a773c297f5f51e2",
     "grade": true,
     "grade_id": "cell-45847066b9f992ae",
     "locked": true,
     "points": 0,
     "schema_version": 3,
     "solution": false,
     "task": false
    }
   },
   "outputs": [],
   "source": [
    "assert all(selectFirst32(C) == \\\n",
    "           array([6, 5, 4, 5, 9, 8, 8, 4, \n",
    "                  2, 7, 8, 4, 1, 8, 9, 3, \n",
    "                  1, 1, 3, 3, 3, 7, 9, 4, \n",
    "                  8, 4, 3, 8, 1, 5, 3, 1]))\n"
   ]
  },
  {
   "cell_type": "markdown",
   "metadata": {},
   "source": [
    "### Exercise\n",
    "\n",
    "Select all elements from C that are not equal to 8. This can be done without explicit loops using the concept of logical indexing."
   ]
  },
  {
   "cell_type": "code",
   "execution_count": 170,
   "metadata": {},
   "outputs": [
    {
     "name": "stdout",
     "output_type": "stream",
     "text": [
      "[[ 0  1  2  3  4]\n",
      " [ 5  6  7  8  9]\n",
      " [10 11 12 13 14]\n",
      " [15 16 17 18 19]\n",
      " [20 21 22 23 24]]\n"
     ]
    },
    {
     "data": {
      "text/plain": [
       "array([ 0,  1,  2,  3,  4,  5,  6,  7,  8,  9, 11, 12, 13, 14, 15, 16, 17,\n",
       "       18, 19, 20, 21, 22, 23, 24])"
      ]
     },
     "execution_count": 170,
     "metadata": {},
     "output_type": "execute_result"
    }
   ],
   "source": [
    "N = 5\n",
    "p = np.arange(N * N).reshape(N, N)\n",
    "print(p)\n",
    "\n",
    "p[p!=10]"
   ]
  },
  {
   "cell_type": "code",
   "execution_count": 171,
   "metadata": {
    "deletable": false,
    "nbgrader": {
     "checksum": "bddbeaf7b624ec3bf48df324a04820a6",
     "grade": false,
     "grade_id": "cell-ac030237ced3816c",
     "locked": false,
     "schema_version": 3,
     "solution": true,
     "task": false
    }
   },
   "outputs": [],
   "source": [
    "def isnot8(a):\n",
    "    # YOUR CODE HERE\n",
    "    return a[a != 8]\n",
    "    raise NotImplementedError()"
   ]
  },
  {
   "cell_type": "code",
   "execution_count": 172,
   "metadata": {
    "deletable": false,
    "editable": false,
    "nbgrader": {
     "checksum": "e40d52205630c0758bd52dbe0b5a25f3",
     "grade": true,
     "grade_id": "cell-bc38e3feaa3d04cf",
     "locked": true,
     "points": 1,
     "schema_version": 3,
     "solution": false,
     "task": false
    }
   },
   "outputs": [],
   "source": [
    "correct_answer = array([6, 5, 4, 5, 9, 4, 2, 7, 4, 1, 9, 3, 1, 1, 3, 3, 3, 7, 9, 4, 4, 3,\n",
    "       1, 5, 3, 1, 3, 9, 7, 7, 9, 3, 4, 4, 7, 6, 2, 9, 1, 2, 9, 2, 3, 9,\n",
    "       1, 6, 5, 9, 5, 6, 7, 5, 5, 3, 9, 3, 9, 3, 3, 5, 6, 5, 6, 9, 5, 2,\n",
    "       1, 5, 6, 4, 3, 3, 3, 6, 9, 3, 4, 2, 2, 3, 1, 3, 2, 9, 4, 2, 5, 4,\n",
    "       3, 7, 5, 6, 6, 7, 5, 2, 2, 3, 3, 3, 9, 4, 9, 3, 7, 5, 6, 9, 6, 7,\n",
    "       6, 9])\n",
    "assert all(correct_answer == isnot8(C))"
   ]
  },
  {
   "cell_type": "markdown",
   "metadata": {},
   "source": [
    "### Exercise\n",
    "\n",
    "Now select all rows from A that do not start with an 8"
   ]
  },
  {
   "cell_type": "code",
   "execution_count": 187,
   "metadata": {},
   "outputs": [
    {
     "name": "stdout",
     "output_type": "stream",
     "text": [
      "[[8 5 2 1 8]\n",
      " [9 7 6 2 3]\n",
      " [8 4 4 5 9]\n",
      " [2 4 8 4 6]\n",
      " [4 6 3 7 6]\n",
      " [8 8 8 3 8]\n",
      " [9 1 5 9 8]\n",
      " [9 9 5 9 2]]\n",
      "-\n",
      "[[9 7 6 2 3]\n",
      " [2 4 8 4 6]\n",
      " [4 6 3 7 6]\n",
      " [9 1 5 9 8]\n",
      " [9 9 5 9 2]]\n"
     ]
    }
   ],
   "source": [
    "print(A)\n",
    "print('-')\n",
    "print(A[np.where(A[:,0] != 8)])"
   ]
  },
  {
   "cell_type": "code",
   "execution_count": 253,
   "metadata": {
    "deletable": false,
    "nbgrader": {
     "checksum": "20059cbb37c55263506b1fa8ea4e370d",
     "grade": false,
     "grade_id": "cell-d73e0b687ec2ac81",
     "locked": false,
     "schema_version": 3,
     "solution": true,
     "task": false
    }
   },
   "outputs": [],
   "source": [
    "def notstart8(a):\n",
    "    # YOUR CODE HERE\n",
    "    return a[np.where(a[:,0] != 8)]\n",
    "    raise NotImplementedError()"
   ]
  },
  {
   "cell_type": "code",
   "execution_count": 254,
   "metadata": {
    "deletable": false,
    "editable": false,
    "nbgrader": {
     "checksum": "d31674bff65af0428878418cc61115f9",
     "grade": true,
     "grade_id": "cell-5f4233be03f243bb",
     "locked": true,
     "points": 1,
     "schema_version": 3,
     "solution": false,
     "task": false
    }
   },
   "outputs": [],
   "source": [
    "assert all(notstart8(A) == \\\n",
    "           array([[9, 7, 6, 2, 3],\n",
    "                  [2, 4, 8, 4, 6],\n",
    "                  [4, 6, 3, 7, 6],\n",
    "                  [9, 1, 5, 9, 8],\n",
    "                  [9, 9, 5, 9, 2]]))"
   ]
  },
  {
   "cell_type": "code",
   "execution_count": 255,
   "metadata": {},
   "outputs": [
    {
     "data": {
      "text/plain": [
       "array([[9, 7, 6, 2, 3],\n",
       "       [4, 6, 3, 7, 6],\n",
       "       [9, 9, 5, 9, 2]])"
      ]
     },
     "execution_count": 255,
     "metadata": {},
     "output_type": "execute_result"
    }
   ],
   "source": [
    "p = A[np.where(A[:,0] != 8)]\n",
    "p[np.all(p[:,] != 8 ,axis=1)]"
   ]
  },
  {
   "cell_type": "code",
   "execution_count": 256,
   "metadata": {
    "deletable": false,
    "nbgrader": {
     "checksum": "31c8df278fffd7fd7fddcf0bcb573d6a",
     "grade": false,
     "grade_id": "cell-eee1e0b64c1960f6",
     "locked": false,
     "schema_version": 3,
     "solution": true,
     "task": false
    }
   },
   "outputs": [],
   "source": [
    "def notany8(a):\n",
    "    # YOUR CODE HERE\n",
    "    p = a[np.where(a[:,0] != 8)]\n",
    "    return p[np.all(p[:,] != 8 ,axis=1)]\n",
    "    raise NotImplementedError()"
   ]
  },
  {
   "cell_type": "code",
   "execution_count": 257,
   "metadata": {
    "deletable": false,
    "editable": false,
    "nbgrader": {
     "checksum": "88d1cb8e621dc130070c5f7f6b5f80e2",
     "grade": true,
     "grade_id": "cell-2c4f36cbdca90a91",
     "locked": true,
     "points": 2,
     "schema_version": 3,
     "solution": false,
     "task": false
    }
   },
   "outputs": [],
   "source": [
    "assert all(notany8(A) == array([[9, 7, 6, 2, 3],\n",
    "       [4, 6, 3, 7, 6],\n",
    "       [9, 9, 5, 9, 2]]))"
   ]
  },
  {
   "cell_type": "markdown",
   "metadata": {},
   "source": [
    "### Exercise\n",
    "\n",
    "Reverse the order of the columns in array B:"
   ]
  },
  {
   "cell_type": "code",
   "execution_count": 258,
   "metadata": {},
   "outputs": [
    {
     "data": {
      "text/plain": [
       "array([[6, 6, 4, 3, 9],\n",
       "       [6, 4, 1, 7, 7],\n",
       "       [2, 4, 2, 5, 8],\n",
       "       [5, 7, 4, 8, 7],\n",
       "       [2, 5, 5, 2, 8],\n",
       "       [1, 4, 2, 6, 1],\n",
       "       [1, 4, 8, 1, 9],\n",
       "       [3, 4, 7, 5, 3]])"
      ]
     },
     "execution_count": 258,
     "metadata": {},
     "output_type": "execute_result"
    }
   ],
   "source": [
    "np.flip(B, 1)"
   ]
  },
  {
   "cell_type": "code",
   "execution_count": 259,
   "metadata": {
    "deletable": false,
    "nbgrader": {
     "checksum": "58224bdd06749c96965ffd1b4978371f",
     "grade": false,
     "grade_id": "cell-ae9f7770b2b27355",
     "locked": false,
     "schema_version": 3,
     "solution": true,
     "task": false
    }
   },
   "outputs": [],
   "source": [
    "def reverse_colums(a):\n",
    "    # YOUR CODE HERE\n",
    "    return np.flip(a,1)\n",
    "    raise NotImplementedError()"
   ]
  },
  {
   "cell_type": "code",
   "execution_count": 260,
   "metadata": {
    "deletable": false,
    "editable": false,
    "nbgrader": {
     "checksum": "c983e9993cad15948e8f06551f0af3d7",
     "grade": true,
     "grade_id": "cell-3f897a9870dbc926",
     "locked": true,
     "points": 1,
     "schema_version": 3,
     "solution": false,
     "task": false
    }
   },
   "outputs": [],
   "source": [
    "assert all(reverse_colums(B) == array([[6, 6, 4, 3, 9],\n",
    "       [6, 4, 1, 7, 7],\n",
    "       [2, 4, 2, 5, 8],\n",
    "       [5, 7, 4, 8, 7],\n",
    "       [2, 5, 5, 2, 8],\n",
    "       [1, 4, 2, 6, 1],\n",
    "       [1, 4, 8, 1, 9],\n",
    "       [3, 4, 7, 5, 3]]))"
   ]
  },
  {
   "cell_type": "markdown",
   "metadata": {},
   "source": [
    "Array indexing is probably one of the most difficult subjects of programming with numpy in an efficient way. Let A be a numpy ndarray (n-dimensional array) then A[obj] is an indexing operation on array A. It depends on the value and type of obj what type of indexing is used. There are really three types of indexing…\n",
    "\n"
   ]
  },
  {
   "cell_type": "markdown",
   "metadata": {},
   "source": [
    "## Views on Arrays"
   ]
  },
  {
   "cell_type": "markdown",
   "metadata": {},
   "source": [
    "Most often when you need arrays in programming, those arrays tend to be very large. Think of images with millions of pixels in it. Thus when calculating with arrays you don't want to make unnescessary copies of arrays. Numpy (thinks it) is very clever in circumventing the need of making copies of arrays. But the cleverness of numpy can bite you in the tail when your are not aware of what is going on.@@"
   ]
  },
  {
   "cell_type": "code",
   "execution_count": 264,
   "metadata": {},
   "outputs": [
    {
     "name": "stdout",
     "output_type": "stream",
     "text": [
      "[[8 5 2 1 8]\n",
      " [9 7 6 2 3]\n",
      " [8 4 4 5 9]\n",
      " [2 4 8 4 6]\n",
      " [4 6 3 7 6]\n",
      " [8 8 8 3 8]\n",
      " [9 1 5 9 8]\n",
      " [9 9 5 9 2]]\n"
     ]
    }
   ],
   "source": [
    "AA = A.copy() # to be sure and not mess with A itself \n",
    "              # we start by explicitly making a copy \n",
    "print(AA)"
   ]
  },
  {
   "cell_type": "code",
   "execution_count": 265,
   "metadata": {},
   "outputs": [
    {
     "name": "stdout",
     "output_type": "stream",
     "text": [
      "[[8 2 8]\n",
      " [8 4 9]\n",
      " [4 3 6]\n",
      " [9 5 8]]\n"
     ]
    }
   ],
   "source": [
    "AA2 = AA[::2,::2]\n",
    "print(AA2)"
   ]
  },
  {
   "cell_type": "code",
   "execution_count": 266,
   "metadata": {},
   "outputs": [
    {
     "name": "stdout",
     "output_type": "stream",
     "text": [
      "[[999 999 999]\n",
      " [999 999 999]\n",
      " [999 999 999]\n",
      " [999 999 999]]\n"
     ]
    }
   ],
   "source": [
    "AA2[:,:] = 999\n",
    "print(AA2)"
   ]
  },
  {
   "cell_type": "code",
   "execution_count": 267,
   "metadata": {},
   "outputs": [
    {
     "name": "stdout",
     "output_type": "stream",
     "text": [
      "[[999   5 999   1 999]\n",
      " [  9   7   6   2   3]\n",
      " [999   4 999   5 999]\n",
      " [  2   4   8   4   6]\n",
      " [999   6 999   7 999]\n",
      " [  8   8   8   3   8]\n",
      " [999   1 999   9 999]\n",
      " [  9   9   5   9   2]]\n"
     ]
    }
   ],
   "source": [
    "print(AA)"
   ]
  },
  {
   "cell_type": "markdown",
   "metadata": {},
   "source": [
    "Evidently AA2 is still refering to the same data elements as AA. We say that AA2 provides a new **view on array AA**. The new view can be of different shape (as it is here). But remember that a view still points to the same data as the array on which it is view.\n",
    "\n",
    "The rules Numpy uses when it doesn't and when it does make a copy of the data are not trivial. \n",
    "\n",
    "Be sure to keep this phenomenon in the back of your mind when confronted with a nasty bug in your code."
   ]
  },
  {
   "cell_type": "markdown",
   "metadata": {},
   "source": [
    "## Tricks with Arrays"
   ]
  },
  {
   "cell_type": "markdown",
   "metadata": {},
   "source": [
    "### Exercise\n",
    "\n",
    "Given the array C of shape (128,) make it into an array of shape (128,1). You can do that with the reshape method or with the use of the 'newaxis' index."
   ]
  },
  {
   "cell_type": "code",
   "execution_count": 287,
   "metadata": {},
   "outputs": [
    {
     "data": {
      "text/plain": [
       "(128, 1)"
      ]
     },
     "execution_count": 287,
     "metadata": {},
     "output_type": "execute_result"
    }
   ],
   "source": [
    "u = C.copy()\n",
    "\n",
    "u[:,np.newaxis].shape"
   ]
  },
  {
   "cell_type": "code",
   "execution_count": 288,
   "metadata": {
    "deletable": false,
    "nbgrader": {
     "checksum": "941b1e1ada846894e9355c8e621fb012",
     "grade": false,
     "grade_id": "cell-8125b850b25433b1",
     "locked": false,
     "schema_version": 3,
     "solution": true,
     "task": false
    }
   },
   "outputs": [],
   "source": [
    "def ncomma_to_ncomma1(a):\n",
    "    # YOUR CODE HERE\n",
    "    return a[:,np.newaxis]\n",
    "    raise NotImplementedError()"
   ]
  },
  {
   "cell_type": "code",
   "execution_count": 289,
   "metadata": {
    "deletable": false,
    "editable": false,
    "nbgrader": {
     "checksum": "d7d3fc3e7fd34ac4a409ccb029a218b1",
     "grade": true,
     "grade_id": "cell-07b408ec9cdbbaf1",
     "locked": true,
     "points": 1,
     "schema_version": 3,
     "solution": false,
     "task": false
    }
   },
   "outputs": [],
   "source": [
    "assert ncomma_to_ncomma1(C).shape == (128,1)\n",
    "assert all(ncomma_to_ncomma1(C).flatten() == C)\n",
    "n = randint(50,500)\n",
    "D = rand(n)\n",
    "assert ncomma_to_ncomma1(D).shape == (n,1)\n",
    "assert all(ncomma_to_ncomma1(D).flatten() == D)"
   ]
  },
  {
   "cell_type": "markdown",
   "metadata": {},
   "source": [
    "We make some new data to work on:"
   ]
  },
  {
   "cell_type": "code",
   "execution_count": 290,
   "metadata": {
    "deletable": false,
    "editable": false,
    "nbgrader": {
     "checksum": "76bd67d3cda783dedc246f756efc173c",
     "grade": false,
     "grade_id": "cell-b6eed99e1e8f4776",
     "locked": true,
     "schema_version": 3,
     "solution": false,
     "task": false
    }
   },
   "outputs": [
    {
     "name": "stdout",
     "output_type": "stream",
     "text": [
      "[[2 9 5 7 2]\n",
      " [4 3 4 2 7]\n",
      " [2 1 8 2 3]]\n",
      "[1 2 3 4 5]\n",
      "[1 2 3]\n"
     ]
    }
   ],
   "source": [
    "seed(38293804)\n",
    "A35 = randint(1,10,size=(3,5))\n",
    "print(A35)\n",
    "\n",
    "v5 = array([1,2,3,4,5])\n",
    "print(v5)\n",
    "\n",
    "v3 = array([1,2,3])\n",
    "print(v3)"
   ]
  },
  {
   "cell_type": "markdown",
   "metadata": {},
   "source": [
    "### Exercise\n",
    "\n",
    "Subtract the (5,) array from each of the rows of A35. **Note there is no need to first duplicate the v5 array to form a (3,5) shaped array**. Note that your function should work for all arrays of size (m,n) and rows of size (n,)."
   ]
  },
  {
   "cell_type": "code",
   "execution_count": 297,
   "metadata": {},
   "outputs": [
    {
     "name": "stdout",
     "output_type": "stream",
     "text": [
      "(3, 5) (5,)\n"
     ]
    },
    {
     "data": {
      "text/plain": [
       "array([[ 1,  7,  2,  3, -3],\n",
       "       [ 3,  1,  1, -2,  2],\n",
       "       [ 1, -1,  5, -2, -2]])"
      ]
     },
     "execution_count": 297,
     "metadata": {},
     "output_type": "execute_result"
    }
   ],
   "source": [
    "t = A35.copy()\n",
    "q = v5.copy()\n",
    "q = q[:np.newaxis,]\n",
    "print(t.shape, q.shape)\n",
    "t - q"
   ]
  },
  {
   "cell_type": "code",
   "execution_count": 298,
   "metadata": {
    "deletable": false,
    "nbgrader": {
     "checksum": "dd353c349148b93a16edddb427326663",
     "grade": false,
     "grade_id": "cell-8e706889deb98346",
     "locked": false,
     "schema_version": 3,
     "solution": true,
     "task": false
    }
   },
   "outputs": [],
   "source": [
    "def subtract_row(a, r):\n",
    "    \"\"\"Subtract row r from all rows in a\"\"\"\n",
    "    # YOUR CODE HERE\n",
    "    return a - r[: np.newaxis,]\n",
    "    raise NotImplementedError()"
   ]
  },
  {
   "cell_type": "code",
   "execution_count": 299,
   "metadata": {
    "deletable": false,
    "editable": false,
    "nbgrader": {
     "checksum": "265a113e7d1c5b3d342c402667b7be0f",
     "grade": true,
     "grade_id": "cell-f93ee2bc1abadd8a",
     "locked": true,
     "points": 1,
     "schema_version": 3,
     "solution": false,
     "task": false
    }
   },
   "outputs": [],
   "source": [
    "assert all(subtract_row(A35, v5) == array([[ 1,  7,  2,  3, -3],\n",
    "       [ 3,  1,  1, -2,  2],\n",
    "       [ 1, -1,  5, -2, -2]]))"
   ]
  },
  {
   "cell_type": "markdown",
   "metadata": {},
   "source": [
    "### Exercise\n",
    "\n",
    "Subtract the (3,) array v3 from each of the columns of A35.  Note that your function should work for all arrays of size (m,n) and columns of size (m,)."
   ]
  },
  {
   "cell_type": "code",
   "execution_count": 309,
   "metadata": {},
   "outputs": [
    {
     "name": "stdout",
     "output_type": "stream",
     "text": [
      "(3, 5) (3, 1)\n"
     ]
    },
    {
     "data": {
      "text/plain": [
       "array([[ 1,  8,  4,  6,  1],\n",
       "       [ 2,  1,  2,  0,  5],\n",
       "       [-1, -2,  5, -1,  0]])"
      ]
     },
     "execution_count": 309,
     "metadata": {},
     "output_type": "execute_result"
    }
   ],
   "source": [
    "t = A35.copy()\n",
    "s = v3.copy()\n",
    "s = s[:,np.newaxis]\n",
    "print(t.shape, s.shape)\n",
    "t - s"
   ]
  },
  {
   "cell_type": "code",
   "execution_count": 310,
   "metadata": {
    "deletable": false,
    "nbgrader": {
     "checksum": "a274962b2c11e50585b89c0d83b1cb42",
     "grade": false,
     "grade_id": "cell-67d1fe25f44ec2a8",
     "locked": false,
     "schema_version": 3,
     "solution": true,
     "task": false
    }
   },
   "outputs": [],
   "source": [
    "def subtract_col(a, c):\n",
    "    # YOUR CODE HERE\n",
    "    return a - c[:, np.newaxis]\n",
    "    raise NotImplementedError()"
   ]
  },
  {
   "cell_type": "code",
   "execution_count": 311,
   "metadata": {
    "deletable": false,
    "editable": false,
    "nbgrader": {
     "checksum": "90dfb1da3413525fbe816ce9d99803bf",
     "grade": true,
     "grade_id": "cell-500e37762b09ce8d",
     "locked": true,
     "points": 1,
     "schema_version": 3,
     "solution": false,
     "task": false
    }
   },
   "outputs": [],
   "source": [
    "assert all( subtract_col(A35, v3) == \\\n",
    "array([[ 1,  8,  4,  6,  1],\n",
    "       [ 2,  1,  2,  0,  5],\n",
    "       [-1, -2,  5, -1,  0]]))\n"
   ]
  },
  {
   "cell_type": "markdown",
   "metadata": {},
   "source": [
    "## Linear Algebra"
   ]
  },
  {
   "cell_type": "markdown",
   "metadata": {},
   "source": [
    "Python supports many linear algebra functions like calculating norm of a vector or determinant of a matrix. \n",
    "\n",
    "In Python 3 the `@` operator for matrix multiplication was introduced. This means that `A @ B` denotes the matrix multiplication of a matrix (array) A of shape (m,n) with a matrix (array) B of shape (n,k).\n",
    "\n",
    "Python also allows arrays of shape (n,) to be used in matrix multiplications. Depending on the context it depends on whether Python interprets an array with shape (n,) as a matrix of shape (n,1) or (1,n).\n",
    "\n",
    "Below some examples are given."
   ]
  },
  {
   "cell_type": "code",
   "execution_count": 312,
   "metadata": {},
   "outputs": [],
   "source": [
    "# creation of some random matrices and vectors. Note difference in size (3,) and (3,1)\n",
    "\n",
    "seed(324893485)\n",
    "A = randint(1,10,size=(3,4))\n",
    "B = randint(1,10,size=(3,3))\n",
    "x = randint(1,10,size=(4,))\n",
    "y = randint(1,10,size=(3,))\n",
    "v = x.reshape((4, 1))\n",
    "z = randint(1, 10, size=(4,1))\n",
    "w = y.reshape((3, 1))"
   ]
  },
  {
   "cell_type": "code",
   "execution_count": 313,
   "metadata": {},
   "outputs": [
    {
     "name": "stdout",
     "output_type": "stream",
     "text": [
      "norm y: 11.916375287812984\n",
      "determinant B: 53.999999999999986\n"
     ]
    }
   ],
   "source": [
    "# norm and determinant\n",
    "\n",
    "print('norm y:', linalg.norm(y))\n",
    "print('determinant B:', linalg.det(B))"
   ]
  },
  {
   "cell_type": "code",
   "execution_count": 314,
   "metadata": {},
   "outputs": [
    {
     "name": "stdout",
     "output_type": "stream",
     "text": [
      "[ 88 118  60]\n",
      "[[ 88]\n",
      " [118]\n",
      " [ 60]]\n"
     ]
    }
   ],
   "source": [
    "# see difference in outcome\n",
    "\n",
    "print(A @ x)\n",
    "print(A @ v)"
   ]
  },
  {
   "cell_type": "code",
   "execution_count": 315,
   "metadata": {},
   "outputs": [
    {
     "ename": "ValueError",
     "evalue": "matmul: Input operand 1 has a mismatch in its core dimension 0, with gufunc signature (n?,k),(k,m?)->(n?,m?) (size 3 is different from 4)",
     "output_type": "error",
     "traceback": [
      "\u001b[0;31m---------------------------------------------------------------------------\u001b[0m",
      "\u001b[0;31mValueError\u001b[0m                                Traceback (most recent call last)",
      "\u001b[0;32m<ipython-input-315-f5d970293c6e>\u001b[0m in \u001b[0;36m<module>\u001b[0;34m\u001b[0m\n\u001b[1;32m      1\u001b[0m \u001b[0;31m# alignment problem will occur\u001b[0m\u001b[0;34m\u001b[0m\u001b[0;34m\u001b[0m\u001b[0;34m\u001b[0m\u001b[0m\n\u001b[1;32m      2\u001b[0m \u001b[0;34m\u001b[0m\u001b[0m\n\u001b[0;32m----> 3\u001b[0;31m \u001b[0mA\u001b[0m \u001b[0;34m@\u001b[0m \u001b[0my\u001b[0m\u001b[0;34m\u001b[0m\u001b[0;34m\u001b[0m\u001b[0m\n\u001b[0m",
      "\u001b[0;31mValueError\u001b[0m: matmul: Input operand 1 has a mismatch in its core dimension 0, with gufunc signature (n?,k),(k,m?)->(n?,m?) (size 3 is different from 4)"
     ]
    }
   ],
   "source": [
    "# alignment problem will occur\n",
    "\n",
    "A @ y"
   ]
  },
  {
   "cell_type": "code",
   "execution_count": 316,
   "metadata": {},
   "outputs": [
    {
     "name": "stdout",
     "output_type": "stream",
     "text": [
      "[ 76  92 132  85]\n"
     ]
    }
   ],
   "source": [
    "# This should work\n",
    "\n",
    "print(y @ A)"
   ]
  },
  {
   "cell_type": "code",
   "execution_count": 317,
   "metadata": {},
   "outputs": [
    {
     "name": "stdout",
     "output_type": "stream",
     "text": [
      "[[130]]\n",
      "[[14 12 16 14]\n",
      " [21 18 24 21]\n",
      " [49 42 56 49]\n",
      " [42 36 48 42]]\n"
     ]
    }
   ],
   "source": [
    "# See difference in outcome. Understand difference\n",
    "\n",
    "# v.Transpose @ z gives dot product\n",
    "print(v.T@z)\n",
    "\n",
    "# v @ z.Transpose result in matrix\n",
    "print(v@z.T)"
   ]
  },
  {
   "cell_type": "markdown",
   "metadata": {},
   "source": [
    "So nothing for you to do here except note that an array of shape (n,) can be used as either row vector of column vector in a vector-matrix or matrix-vector multiplication respectively."
   ]
  },
  {
   "cell_type": "markdown",
   "metadata": {},
   "source": [
    "## End of Notebook"
   ]
  },
  {
   "cell_type": "code",
   "execution_count": null,
   "metadata": {},
   "outputs": [],
   "source": []
  }
 ],
 "metadata": {
  "kernelspec": {
   "display_name": "Python 3",
   "language": "python",
   "name": "python3"
  },
  "language_info": {
   "codemirror_mode": {
    "name": "ipython",
    "version": 3
   },
   "file_extension": ".py",
   "mimetype": "text/x-python",
   "name": "python",
   "nbconvert_exporter": "python",
   "pygments_lexer": "ipython3",
   "version": "3.8.2"
  },
  "latex_envs": {
   "LaTeX_envs_menu_present": true,
   "autoclose": false,
   "autocomplete": true,
   "bibliofile": "biblio.bib",
   "cite_by": "apalike",
   "current_citInitial": 1,
   "eqLabelWithNumbers": true,
   "eqNumInitial": 1,
   "hotkeys": {
    "equation": "Ctrl-E",
    "itemize": "Ctrl-I"
   },
   "labels_anchors": false,
   "latex_user_defs": false,
   "report_style_numbering": true,
   "user_envs_cfg": false
  }
 },
 "nbformat": 4,
 "nbformat_minor": 4
}
